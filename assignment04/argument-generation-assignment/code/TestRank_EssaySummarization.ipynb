{
 "nbformat": 4,
 "nbformat_minor": 0,
 "metadata": {
  "colab": {
   "name": "TestRank_Text_Summarization.ipynb",
   "version": "0.3.2",
   "provenance": [],
   "collapsed_sections": [],
   "include_colab_link": true
  },
  "kernelspec": {
   "name": "python3",
   "language": "python",
   "display_name": "Python 3"
  },
  "accelerator": "GPU",
  "pycharm": {
   "stem_cell": {
    "cell_type": "raw",
    "source": [],
    "metadata": {
     "collapsed": false
    }
   }
  }
 },
 "cells": [
  {
   "metadata": {
    "id": "WeptlGXN2MnF",
    "colab_type": "code",
    "outputId": "781281df-51c3-4729-fe6c-7c8401925582",
    "colab": {
     "base_uri": "https://localhost:8080/",
     "height": 54
    },
    "pycharm": {
     "is_executing": false
    }
   },
   "cell_type": "code",
   "source": [
    "import numpy as np\n",
    "import pandas as pd\n",
    "import nltk\n",
    "from nltk.tokenize import sent_tokenize\n",
    "nltk.download('punkt') # one time execution\n"
   ],
   "execution_count": 211,
   "outputs": [
    {
     "name": "stderr",
     "text": [
      "[nltk_data] Downloading package punkt to\n",
      "[nltk_data]     /Users/sajjadpervaiz/nltk_data...\n",
      "[nltk_data]   Package punkt is already up-to-date!\n"
     ],
     "output_type": "stream"
    }
   ]
  },
  {
   "metadata": {
    "id": "_5FvQ9LHGtja",
    "colab_type": "code",
    "colab": {},
    "pycharm": {
     "is_executing": false
    }
   },
   "cell_type": "code",
   "source": [
    "csv_df = pd.read_csv('train-test-split.csv', delimiter=';')"
   ],
   "execution_count": 212,
   "outputs": []
  },
  {
   "cell_type": "code",
   "execution_count": 213,
   "outputs": [
    {
     "data": {
      "text/plain": "          ID   SET\n3   essay004  TEST\n4   essay005  TEST\n5   essay006  TEST\n20  essay021  TEST\n41  essay042  TEST",
      "text/html": "<div>\n<style scoped>\n    .dataframe tbody tr th:only-of-type {\n        vertical-align: middle;\n    }\n\n    .dataframe tbody tr th {\n        vertical-align: top;\n    }\n\n    .dataframe thead th {\n        text-align: right;\n    }\n</style>\n<table border=\"1\" class=\"dataframe\">\n  <thead>\n    <tr style=\"text-align: right;\">\n      <th></th>\n      <th>ID</th>\n      <th>SET</th>\n    </tr>\n  </thead>\n  <tbody>\n    <tr>\n      <th>3</th>\n      <td>essay004</td>\n      <td>TEST</td>\n    </tr>\n    <tr>\n      <th>4</th>\n      <td>essay005</td>\n      <td>TEST</td>\n    </tr>\n    <tr>\n      <th>5</th>\n      <td>essay006</td>\n      <td>TEST</td>\n    </tr>\n    <tr>\n      <th>20</th>\n      <td>essay021</td>\n      <td>TEST</td>\n    </tr>\n    <tr>\n      <th>41</th>\n      <td>essay042</td>\n      <td>TEST</td>\n    </tr>\n  </tbody>\n</table>\n</div>"
     },
     "metadata": {},
     "output_type": "execute_result",
     "execution_count": 213
    }
   ],
   "source": [
    "csv_df = csv_df.loc[csv_df['SET'] == 'TEST']\n",
    "csv_df.head()"
   ],
   "metadata": {
    "collapsed": false,
    "pycharm": {
     "name": "#%%\n",
     "is_executing": false
    }
   }
  },
  {
   "cell_type": "code",
   "execution_count": 214,
   "outputs": [],
   "source": [
    "test_essays_id_strings = csv_df['ID']\n",
    "test_essays_ids = [e_id.split('essay')[1] for e_id in test_essays_id_strings]"
   ],
   "metadata": {
    "collapsed": false,
    "pycharm": {
     "name": "#%%\n",
     "is_executing": false
    }
   }
  },
  {
   "cell_type": "code",
   "execution_count": 215,
   "outputs": [],
   "source": [
    "df = pd.read_json('essay_prompt_corpus.json')"
   ],
   "metadata": {
    "collapsed": false,
    "pycharm": {
     "name": "#%%\n",
     "is_executing": false
    }
   }
  },
  {
   "metadata": {
    "id": "hm6pa5Af4qbE",
    "colab_type": "code",
    "colab": {
     "base_uri": "https://localhost:8080/",
     "height": 198
    },
    "outputId": "7bf41859-f291-44ae-a785-12cd486a53a1",
    "pycharm": {
     "is_executing": false
    }
   },
   "cell_type": "code",
   "source": [
    "df.head(5)"
   ],
   "execution_count": 216,
   "outputs": [
    {
     "data": {
      "text/plain": "    id                                             prompt  \\\n0  365               Way to reduce the amount of traffic?   \n1  134  Qualification is still the fundamental determi...   \n2  131  The government should allocate more funds to p...   \n3  198                 Improve roads or public transports   \n4  330  In personal live, we have some responsibilitie...   \n\n                                                text  \n0  Big cities nowadays can be described as meltin...  \n1  With the increased educational level of workfo...  \n2  The issue of governmental financing provision ...  \n3  Many people think that governments should spen...  \n4  People should sometimes do things, even though...  ",
      "text/html": "<div>\n<style scoped>\n    .dataframe tbody tr th:only-of-type {\n        vertical-align: middle;\n    }\n\n    .dataframe tbody tr th {\n        vertical-align: top;\n    }\n\n    .dataframe thead th {\n        text-align: right;\n    }\n</style>\n<table border=\"1\" class=\"dataframe\">\n  <thead>\n    <tr style=\"text-align: right;\">\n      <th></th>\n      <th>id</th>\n      <th>prompt</th>\n      <th>text</th>\n    </tr>\n  </thead>\n  <tbody>\n    <tr>\n      <th>0</th>\n      <td>365</td>\n      <td>Way to reduce the amount of traffic?</td>\n      <td>Big cities nowadays can be described as meltin...</td>\n    </tr>\n    <tr>\n      <th>1</th>\n      <td>134</td>\n      <td>Qualification is still the fundamental determi...</td>\n      <td>With the increased educational level of workfo...</td>\n    </tr>\n    <tr>\n      <th>2</th>\n      <td>131</td>\n      <td>The government should allocate more funds to p...</td>\n      <td>The issue of governmental financing provision ...</td>\n    </tr>\n    <tr>\n      <th>3</th>\n      <td>198</td>\n      <td>Improve roads or public transports</td>\n      <td>Many people think that governments should spen...</td>\n    </tr>\n    <tr>\n      <th>4</th>\n      <td>330</td>\n      <td>In personal live, we have some responsibilitie...</td>\n      <td>People should sometimes do things, even though...</td>\n    </tr>\n  </tbody>\n</table>\n</div>"
     },
     "metadata": {},
     "output_type": "execute_result",
     "execution_count": 216
    }
   ]
  },
  {
   "cell_type": "code",
   "execution_count": 217,
   "outputs": [],
   "source": [
    "# select only test rows from corpus\n",
    "df = df.loc[df['id'].isin(test_essays_ids)]"
   ],
   "metadata": {
    "collapsed": false,
    "pycharm": {
     "name": "#%%\n",
     "is_executing": false
    }
   }
  },
  {
   "cell_type": "code",
   "execution_count": 218,
   "outputs": [
    {
     "data": {
      "text/plain": "(80, 3)"
     },
     "metadata": {},
     "output_type": "execute_result",
     "execution_count": 218
    }
   ],
   "source": [
    "df.shape"
   ],
   "metadata": {
    "collapsed": false,
    "pycharm": {
     "name": "#%%\n",
     "is_executing": false
    }
   }
  },
  {
   "cell_type": "code",
   "execution_count": 219,
   "outputs": [],
   "source": [
    "def tokenize_essay_sentences(essay_id, text):\n",
    "    tokenized_essays = {essay_id: sent_tokenize(text)}\n",
    "    return tokenized_essays"
   ],
   "metadata": {
    "collapsed": false,
    "pycharm": {
     "name": "#%%\n",
     "is_executing": false
    }
   }
  },
  {
   "metadata": {
    "id": "eZVoc3R6G9a8",
    "colab_type": "code",
    "colab": {},
    "pycharm": {
     "is_executing": false
    }
   },
   "cell_type": "code",
   "source": [
    "essay_sentences = [tokenize_essay_sentences(essay_id, text) for essay_id, text in zip(df['id'], df['text'])]"
   ],
   "execution_count": 220,
   "outputs": []
  },
  {
   "cell_type": "code",
   "execution_count": null,
   "outputs": [],
   "source": [
    "nltk.download('stopwords')# one time execution"
   ],
   "metadata": {
    "collapsed": false,
    "pycharm": {
     "name": "#%%\n"
    }
   }
  },
  {
   "metadata": {
    "id": "UKk_3HZ-Idjm",
    "colab_type": "code",
    "colab": {},
    "pycharm": {
     "is_executing": false
    }
   },
   "cell_type": "code",
   "source": [
    "from nltk.corpus import stopwords\n",
    "stop_words = stopwords.words('english')"
   ],
   "execution_count": 223,
   "outputs": []
  },
  {
   "metadata": {
    "id": "RX_NFApzIkmC",
    "colab_type": "code",
    "colab": {},
    "pycharm": {
     "is_executing": false
    }
   },
   "cell_type": "code",
   "source": [
    "# function to remove stopwords\n",
    "def remove_stopwords(sen):\n",
    "  sen_new = \" \".join([i for i in sen if i not in stop_words])\n",
    "  return sen_new"
   ],
   "execution_count": 224,
   "outputs": []
  },
  {
   "metadata": {
    "id": "OcFap_w9Ivob",
    "colab_type": "code",
    "colab": {},
    "pycharm": {
     "is_executing": false
    }
   },
   "cell_type": "code",
   "source": [
    "clean_essay_list = []\n",
    "for essay in essay_sentences:\n",
    "    for k, v in essay.items():\n",
    "        clean_sentences = [remove_stopwords(s.split()) for s in v]\n",
    "        clean_essay = {k: clean_sentences}\n",
    "        clean_essay_list.append(clean_essay)"
   ],
   "execution_count": 225,
   "outputs": []
  },
  {
   "cell_type": "code",
   "execution_count": null,
   "outputs": [],
   "source": [
    "# download pretrained GloVe word embeddings\n",
    "#! wget http://nlp.stanford.edu/data/glove.6B.zip"
   ],
   "metadata": {
    "collapsed": false,
    "pycharm": {
     "name": "#%%\n"
    }
   }
  },
  {
   "metadata": {
    "id": "K_GXHzwDJq-2",
    "colab_type": "code",
    "outputId": "9387687a-04f5-41d9-f525-b6bca3b8f97c",
    "colab": {
     "base_uri": "https://localhost:8080/",
     "height": 108
    },
    "pycharm": {
     "is_executing": false
    }
   },
   "cell_type": "code",
   "source": [
    "#! unzip glove*.zip"
   ],
   "execution_count": 228,
   "outputs": []
  },
  {
   "metadata": {
    "id": "TsXIa7CBKsWQ",
    "colab_type": "code",
    "colab": {},
    "pycharm": {
     "is_executing": false
    }
   },
   "cell_type": "code",
   "source": [
    "# Extract word vectors\n",
    "word_embeddings = {}\n",
    "f = open('glove.6B.100d.txt', encoding='utf-8')\n",
    "for line in f:\n",
    "    values = line.split()\n",
    "    word = values[0]\n",
    "    coefs = np.asarray(values[1:], dtype='float32')\n",
    "    word_embeddings[word] = coefs\n",
    "f.close()"
   ],
   "execution_count": 229,
   "outputs": []
  },
  {
   "metadata": {
    "id": "N3VtdSPyKxUZ",
    "colab_type": "code",
    "colab": {},
    "pycharm": {
     "is_executing": false
    }
   },
   "cell_type": "code",
   "source": [
    "vectorized_essays = {}\n",
    "for s in clean_essay_list:\n",
    "    for key, val in s.items():\n",
    "        sentence_vectors = []\n",
    "        for i in val:\n",
    "            if len(i) != 0:\n",
    "                v = sum([word_embeddings.get(w, np.zeros((100,))) for w in i.split()])/(len(i.split())+0.001)\n",
    "            else:\n",
    "                v = np.zeros((100,))\n",
    "            sentence_vectors.append(v)\n",
    "        vectorized_essays[key] = sentence_vectors\n"
   ],
   "execution_count": 230,
   "outputs": []
  },
  {
   "metadata": {
    "id": "1bh9L2pqL3gp",
    "colab_type": "text"
   },
   "cell_type": "markdown",
   "source": [
    "The next step is to find similarities among the sentences. We will use cosine similarity to find similarity between a pair of sentences. Let's create an empty similarity matrix for this task and populate it with cosine similarities of the sentences."
   ]
  },
  {
   "metadata": {
    "id": "mm_fNZpOLxbM",
    "colab_type": "code",
    "colab": {},
    "pycharm": {
     "is_executing": false
    }
   },
   "cell_type": "code",
   "source": [
    "from sklearn.metrics.pairwise import cosine_similarity\n",
    "import networkx as nx"
   ],
   "execution_count": 231,
   "outputs": []
  },
  {
   "cell_type": "code",
   "execution_count": 232,
   "outputs": [],
   "source": [
    "def create_sim_matrix(sim_matrix, length_of_sentences, essay_id):\n",
    "    target_essay_sentence_vector = vectorized_essays[essay_id]\n",
    "    for m in range(length_of_sentences):\n",
    "        for j in range(length_of_sentences):\n",
    "            if m != j:\n",
    "                sim_matrix[m][j] = cosine_similarity(target_essay_sentence_vector[m].reshape(1,100), target_essay_sentence_vector[j].reshape(1,100))[0,0]\n",
    "    return sim_matrix"
   ],
   "metadata": {
    "collapsed": false,
    "pycharm": {
     "name": "#%%\n",
     "is_executing": false
    }
   }
  },
  {
   "cell_type": "code",
   "execution_count": 233,
   "outputs": [],
   "source": [
    "# find similarities between the sentences of each essay.\n",
    "output = []\n",
    "for e in essay_sentences:\n",
    "    for k, v in e.items():\n",
    "        sim_mat = np.zeros([len(v), len(v)])\n",
    "        sm = create_sim_matrix(sim_mat, len(v), k)\n",
    "        nx_graph = nx.from_numpy_array(sm)\n",
    "        scores = nx.pagerank(nx_graph)\n",
    "        ranked_sentences = sorted(((scores[i],s) for i,s in enumerate(v)), reverse=True)\n",
    "        # Generate summary\n",
    "        essay_obj = {'id': k, 'prompt': ranked_sentences[0][1]}\n",
    "        output.append(essay_obj)"
   ],
   "metadata": {
    "collapsed": false,
    "pycharm": {
     "name": "#%%\n",
     "is_executing": false
    }
   }
  },
  {
   "cell_type": "code",
   "execution_count": 234,
   "outputs": [
    {
     "data": {
      "text/plain": "[{'id': 373,\n  'prompt': 'To conclude, capital punishment is a form of legalized revenge, it is an easy way for serious crimes, and nobody has rights to take others life; thus, it neither demines crimes of violence nor be essential to control violence in society.'},\n {'id': 61,\n  'prompt': 'Nanotechnology is working to make computers to the order of microscopic levels.'},\n {'id': 180,\n  'prompt': 'We begin taking part in groups or organizations during the early days of life, and especially most people continue their social participation in all through life.'},\n {'id': 211,\n  'prompt': 'Thus, school education should not only focus on the academic development of a student as it is much more crucial to teach them how to be independent and live a good life.'},\n {'id': 229,\n  'prompt': 'I agree if a friend makes very a big mistake, we will need to end a friendship.'},\n {'id': 278,\n  'prompt': \"Although multitudes of people think that sports and social activities are not as necessary as academic subjects in colleges, I think that these activities have the same efficient role in students' lives.\"},\n {'id': 218,\n  'prompt': 'There is only one life and one childhood and people should live their childhood thoroughly.'},\n {'id': 221,\n  'prompt': 'Some people may believe that a zoo is futile in the era of globalization, which people can develop their knowledge fast and easily.'},\n {'id': 306,\n  'prompt': \"Although I conceded technology may make people's life complicated in some aspects, the convenience it brings is more.\"},\n {'id': 301,\n  'prompt': 'Even if I were not to win this medal, I acknowledged the great amount of my endeavor as I could keep my tired legs running.'},\n {'id': 21,\n  'prompt': 'The most effective way to convince consumers to purchase a product is through advertising.'},\n {'id': 182,\n  'prompt': 'In addition, the government already helps pay college expense through indirect means.'},\n {'id': 289,\n  'prompt': 'Schools could produce intellectual students because school have teachers who are always improve their quality from evaluation made by students.'},\n {'id': 364,\n  'prompt': 'Lot of people like to use traditional things because if their quality and durability.'},\n {'id': 243,\n  'prompt': 'On the whole, to compare to all ways of communication, I really think that e-mail is the greatest way for major people to use.'},\n {'id': 108,\n  'prompt': 'In conclusion, even though the introduction of the early retirement has some benefits, it is convincing that it would generate a sense of discrimination among different age groups and increase the government financial pressure accordingly.'},\n {'id': 104,\n  'prompt': 'However, it is not just the matter of help or hindrance, it is the way you use the cyberspace.'},\n {'id': 136,\n  'prompt': \"To put it all in a nutshell, I pen out saying that alternative sources information and traditional education systems are equally important in children's development.\"},\n {'id': 393,\n  'prompt': 'An even more detrimental fact is that detailed reports of crimes exposured on the press may provide the potential criminals with instructive learning materials, which would be hard to obtain otherwise.'},\n {'id': 259,\n  'prompt': 'It not only has the advantage of working with colleges but also it provides a real working atmosphere that can never be grasped if people choose to work at home.'},\n {'id': 72,\n  'prompt': 'Although miscellaneous people may apply diverse strategies, such as reading, watching movies, or working in their gardens, I argue that the most suitable method of reducing stress for modern people is by different kinds of exercise, which can not only improve health conditions but also bring positive emotions.'},\n {'id': 169,\n  'prompt': 'Professors could combine doing research and preparing good courses in a dynamic way.'},\n {'id': 98,\n  'prompt': 'However, if children get good care and instructions from their parents, they can take advantages of the work to learn valuable things and avoid going in a wrong way.'},\n {'id': 316,\n  'prompt': 'Otherwise, another vital reason why new building construction deserves more governmental investment lies in the fact that it requires far more resource compare to old building preservation.'},\n {'id': 382,\n  'prompt': 'It is highly recommended that apart from education, technology should be applied in every aspect of life which assures of a better future.'},\n {'id': 103,\n  'prompt': 'Nevertheless, in order for the jury to come up with an objective decision not depending on the past experience, the court should provide with details relevant to a particular case only.'},\n {'id': 287,\n  'prompt': 'Learning foreign language form another country is better choice for me to study language.'},\n {'id': 352,\n  'prompt': 'The best thing about internet is the availability of information in the form of text, image or video related to almost everything and through computer children can access internet to gather knowledge on the subjects they are studying or they are interested about.'},\n {'id': 328,\n  'prompt': 'In addition, they would be able to know the opposite gender, which help them to be prepared for the adult life where they almost will live or work together.'},\n {'id': 202,\n  'prompt': 'However, the relationship you need to maintain with your co-worker is the most important one since he or she is the person who works very closely with you, and in most instances you have to rely on him or her.'},\n {'id': 266,\n  'prompt': 'Besides, advertising might lead to healthier eating customs due to the growing awareness of living under a better lifestyle.'},\n {'id': 386,\n  'prompt': 'It is a matter of fact that students share even more time together than with their parents, explaining a great deal of wisdom they absorb from each others; it can be, for example, lessons on the class, social skills or general etiquettes that are sometimes overlooked by parents.'},\n {'id': 142,\n  'prompt': 'By way of conclusion, it is true that the development of the health care system helps people have a better life.'},\n {'id': 192,\n  'prompt': \"Despite friendship is one of the most important values in a man's life, people might have different preferences: some of them prefer to spend time with one or two close friends, while other prefer to be surrounded by a large number of friends.\"},\n {'id': 4,\n  'prompt': 'While some might think the tourism bring large profit for the destination countries, I would contend that this industry has affected the cultural attributes and damaged the natural environment of the tourist destinations.'},\n {'id': 359,\n  'prompt': 'Moreover, tourists may offend the local people due to their different culture background.'},\n {'id': 117,\n  'prompt': \"If people don't use air conditioners, automobiles and other such things that technology has brought us, then naturally there would be less pollution and natural resources like fossil fuels would be saved and all this would save the environment.\"},\n {'id': 331,\n  'prompt': 'By seeing historic buildings -- whether related to something famous or recognizably dramatic, people are able to witness the aesthetic and cultural history of an area.'},\n {'id': 160,\n  'prompt': 'Some people think that it does not matter what is reason behind committing a crime therefore there should be fixed punishment for a specific crime.'},\n {'id': 310,\n  'prompt': 'Trying to learn skills, working in two places in a week and gaining more tasks are the reasons which take into account as the most important causes of my choice.'},\n {'id': 68,\n  'prompt': 'Obviously, violence in the media is often portrayed as extreme as possible in order to attract audiences.'},\n {'id': 241,\n  'prompt': 'Firstly, in the city there is much better education system.'},\n {'id': 265,\n  'prompt': 'I believe that both the ability to relate well to people and studying hard in school are important for success in a future job for following reasons:\\nWe need to know and learn about the theoritical basis of our future job.'},\n {'id': 6,\n  'prompt': 'First of all, students who study outside their countries can get a lot of experience living in a foreign country.'},\n {'id': 86,\n  'prompt': 'To begin with, it is undeniable that education is better in big cities in comparison with countrysides.'},\n {'id': 252,\n  'prompt': 'Therefore, even if children are not going to be great musicians or artists, learning music and art is still worthy because it can nourish your temper and serve as a leisure.'},\n {'id': 255,\n  'prompt': 'In conclusion, given the reasons described above, when the advantages and disadvantages of whether there will be fewer cars in use in twenty years or not are carefully compared, the best choice is obviously stand on my side, which is that the car use will definitely decrease in twenty years.'},\n {'id': 119,\n  'prompt': 'In short, although both sides have their equally valid arguments, I am inclined to think that although Internet can be a useful tool for education, at no time will the unique role of human teachers be replaced.'},\n {'id': 227,\n  'prompt': 'Many governments believe that space exploration is an activity that wastes the budget, while the essential challenge of humanity in the future would be the discovery of a new place for the living.'},\n {'id': 204,\n  'prompt': 'One question I always thought about is whether online computer classes should replace classroom learning.'},\n {'id': 71,\n  'prompt': 'Besides, it is obvious that publicizing brand image or a particular product of mass media could boost sales for companies.'},\n {'id': 234,\n  'prompt': 'Finally, I think that requirement to take standardized tests is the right choice, since in this case teachers can compare the level of knowledge of different students.'},\n {'id': 245,\n  'prompt': 'In this case it is not so difficult to write an e-mail or to leave a voice mail because even shy people feel themselves more confident.'},\n {'id': 154,\n  'prompt': 'Even though his friends and I were total strangers to each other, we quickly got to know each other.'},\n {'id': 126,\n  'prompt': 'Second, close friends can easily understand each others feelings.'},\n {'id': 129,\n  'prompt': 'Admittedly, on the other hand, there might be some people proclaiming that with a slower pace can enjoy their lives more because it is not necessary for them to notice the time control or acquire the fame of succeed.'},\n {'id': 42,\n  'prompt': 'By doing this, the employers can make sure the employees can actually focus and concentrate on their projects instead of thinking about their children or feeling pressured.'},\n {'id': 187,\n  'prompt': 'When you are exposed to an environment where everybody talks to you in the new language you want to learn and expects you express words from the same language, you are forced to learn it as soon and good as possible.'},\n {'id': 240,\n  'prompt': \"So, to sum it up, both not afraid of difficulties and appreciating common but pleasant things in their lives drive me to believe that most tough experiences in people's life path will be a priceless treasure to them.\"},\n {'id': 322,\n  'prompt': 'Therefore, It is a valuable opportunities for any city having historic buildings to show them to new visitors.'},\n {'id': 193,\n  'prompt': 'Instead of using many private cars, people can use public transportation, such as bus, train, subway, each one can get far more people and less oil and gasoline are used up per person.'},\n {'id': 97,\n  'prompt': 'Because a large number of people will gather in the host city for sport events, there are many good opportunities for discovering different cultures.'},\n {'id': 172,\n  'prompt': 'In the other hand, living in a dormitory, and being surrounded by students also has some advantages, like being able to get help with any academic issues from them.'},\n {'id': 5,\n  'prompt': 'While some students study and live overseas to achieve this, some prefer to study home because of the difficulties of living and studying overseas.'},\n {'id': 52,\n  'prompt': \"It is undeniable that language contains many aspects of people's daily life, which is influenced by culture, environment as well as religious.\"},\n {'id': 163,\n  'prompt': 'In conclusion, if I want to live a more convenient life with more access to modern facilities as well as with more exposure to various opportunities, and have my children receive a better education, a big city is the place to live in.'},\n {'id': 139,\n  'prompt': 'If certain species are absent from this system, such kind of balance is likely to be disrupted and other species, including human beings, will come under threat.'},\n {'id': 149,\n  'prompt': 'For example, when I did not know what major to choose when I attend university, my father told a lot about different majors.'},\n {'id': 277,\n  'prompt': 'Students would improve their social positions and encounter their problems in positive ways and also intend in the more confidence manner and etc.'},\n {'id': 341,\n  'prompt': 'With the development of technology, whether or not it is still necessary to protect the traditional skills and lifestyles leads to a drastic controversy which is becoming a public concern, especially considering the significant impact taken by technology.'},\n {'id': 212,\n  'prompt': 'Some people choose the former one to assimilate themselves into the new culture, while some insist the latter one because the new customs are difficult to be accepted.'},\n {'id': 199,\n  'prompt': 'Success needs us to work hard and sacrifice more whether we choose to study alone or with group.'},\n {'id': 77,\n  'prompt': 'In contrast, zoo is a good alternative choice for protecting animals as various animals could be better protected by specialized staff.'},\n {'id': 348,\n  'prompt': \"To start with, all people who are able to work should pay tax to the government, as it is the most important source of government's revenue, which is mainly used to serve all citizens.\"},\n {'id': 220,\n  'prompt': 'Spending much money may not result in what the parents expect their children to be.'},\n {'id': 82,\n  'prompt': 'Many believe that advertising has brought great benefits to lives therefore it should be considered a positive activity while others have held a complete different idea about this.'},\n {'id': 398,\n  'prompt': 'Most of male students tend to use their left brain to think and act, and they are more rational and logical than girls in many cases.'},\n {'id': 335,\n  'prompt': 'In conclusion, I agree that IT discoveries are likely to have more disadvantages than benefits and people should know how to use their developments properly.'},\n {'id': 91,\n  'prompt': 'Therefore, I would conclude that a single international language contributes to global community in terms of economic and cultural communication.'},\n {'id': 355,\n  'prompt': 'Moreover, teachers think that foreign language most likely leads to confusion for children who are yet to start learning.'}]"
     },
     "metadata": {},
     "output_type": "execute_result",
     "execution_count": 234
    }
   ],
   "source": [
    "output"
   ],
   "metadata": {
    "collapsed": false,
    "pycharm": {
     "name": "#%%\n",
     "is_executing": false
    }
   }
  },
  {
   "cell_type": "code",
   "execution_count": 235,
   "outputs": [],
   "source": [
    "import json\n",
    "json_dump = json.dumps(output, indent=4, ensure_ascii=False)\n",
    "with open('predictions.json', \"w\", encoding='utf-8') as outfile:\n",
    "    outfile.write(json_dump)"
   ],
   "metadata": {
    "collapsed": false,
    "pycharm": {
     "name": "#%%\n",
     "is_executing": false
    }
   }
  }
 ]
}